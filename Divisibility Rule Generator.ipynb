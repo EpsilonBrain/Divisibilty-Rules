{
 "cells": [
  {
   "cell_type": "code",
   "execution_count": 60,
   "metadata": {},
   "outputs": [],
   "source": [
    "def primelist(n):\n",
    "    A = [True] * (n + 1)\n",
    "    plist = []\n",
    "    for i in range(2, int(n ** .5) + 1):\n",
    "        if A[i]:\n",
    "            k = 0\n",
    "            j = i ** 2\n",
    "            while j <= n:\n",
    "                A[j] = False\n",
    "                k += 1\n",
    "                j = i ** 2 + i * k\n",
    "    for i in range(2, n + 1):\n",
    "        if A[i]:\n",
    "            plist.append(i)\n",
    "    return(plist)"
   ]
  },
  {
   "cell_type": "code",
   "execution_count": 61,
   "metadata": {},
   "outputs": [],
   "source": [
    "def ndig(num):\n",
    "    return len(str(num))\n",
    "def get_dig(num):\n",
    "    num_str = str(num)\n",
    "    n = len(num_str)\n",
    "    dig_list = [0] * n\n",
    "    for i in range(n):\n",
    "        dig_list[i] = int(num_str[i])\n",
    "    return dig_list\n",
    "def list_to_int(dig_list):\n",
    "    m = len(dig_list)\n",
    "    run_str =''\n",
    "    for i in range(m):\n",
    "        run_str += str(dig_list[i])\n",
    "    return int(run_str)\n",
    "def last_dig(num):\n",
    "    return get_dig(num)[len(get_dig(num)) - 1]\n",
    "def not_last(num):\n",
    "    if len(str(num)) == 1:\n",
    "        return num\n",
    "    return list_to_int(get_dig(num)[0:len(get_dig(num)) - 1])\n",
    "def rest_and_last(num):\n",
    "    digs = get_dig(num)\n",
    "    L = len(digs)\n",
    "    if L == 1:\n",
    "        return (0, num)\n",
    "    else:\n",
    "        return (list_to_int(digs[0:L - 1]), get_dig(num)[L - 1])"
   ]
  },
  {
   "cell_type": "code",
   "execution_count": 62,
   "metadata": {},
   "outputs": [],
   "source": [
    "def div_rule_gen(p):\n",
    "    #this assumes p prime is greater than 7\n",
    "    dig_list = get_dig(p)\n",
    "    #get the last digit\n",
    "    last = dig_list.pop()\n",
    "    #get the rest of the digits\n",
    "    #it is either 1, 3, 7, or 9\n",
    "    (num, op) = get_special(p)\n",
    "    return rule_make(num, op, p)"
   ]
  },
  {
   "cell_type": "code",
   "execution_count": 63,
   "metadata": {},
   "outputs": [],
   "source": [
    "def rule_make(num, op, p):\n",
    "    if op == \"add\":\n",
    "        long_str = \"Multiply the last digit by \" + str(num) + \", \" + op + \" it to the rest of the number\"\n",
    "    if op == \"subtract\":\n",
    "        long_str = long_str = \"Multiply the last digit by \" + str(num) + \", \" + op + \" it from the rest of the number\"\n",
    "    return long_str"
   ]
  },
  {
   "cell_type": "code",
   "execution_count": null,
   "metadata": {},
   "outputs": [],
   "source": []
  },
  {
   "cell_type": "code",
   "execution_count": 64,
   "metadata": {},
   "outputs": [],
   "source": [
    "def get_special(num):\n",
    "    #it is assumed that num is prime\n",
    "    digs = get_dig(num)\n",
    "    last = digs[len(digs) - 1]\n",
    "    spec = 3 * num\n",
    "    if num == 3 :\n",
    "        return (1, \"add\")\n",
    "    if last == 1:\n",
    "        return (not_last(num), \"subtract\")\n",
    "    if last == 3:\n",
    "        return (not_last(spec) + 1, \"add\")\n",
    "    if last == 7:\n",
    "        return(not_last(spec), \"subtract\")\n",
    "    if last == 9:\n",
    "        return (not_last(num) + 1, \"add\")"
   ]
  },
  {
   "cell_type": "code",
   "execution_count": null,
   "metadata": {},
   "outputs": [],
   "source": []
  },
  {
   "cell_type": "code",
   "execution_count": 65,
   "metadata": {},
   "outputs": [],
   "source": [
    "a_plist = primelist(10000)\n",
    "plist = a_plist[4: len(a_plist) - 1]"
   ]
  },
  {
   "cell_type": "code",
   "execution_count": 66,
   "metadata": {},
   "outputs": [],
   "source": [
    "def last_dig_op(n, mult, op, p):\n",
    "    (rest, last) = rest_and_last(n)\n",
    "    return abs(what_op(op, rest, mult * last))"
   ]
  },
  {
   "cell_type": "code",
   "execution_count": 67,
   "metadata": {},
   "outputs": [],
   "source": [
    "def nice_str(truth):\n",
    "    if not truth:\n",
    "        return \"not\"\n",
    "    else:\n",
    "        return \"\""
   ]
  },
  {
   "cell_type": "code",
   "execution_count": 68,
   "metadata": {},
   "outputs": [],
   "source": [
    "def what_op(op, a, b):\n",
    "    if op == \"add\":\n",
    "        return a + b\n",
    "    else:\n",
    "        return a - b"
   ]
  },
  {
   "cell_type": "code",
   "execution_count": 69,
   "metadata": {},
   "outputs": [],
   "source": [
    "def spec_three(n):\n",
    "    tot = n\n",
    "    while ndig(tot) > 1:\n",
    "        tot = sum(get_dig(tot))\n",
    "    while tot >= 3:\n",
    "        tot -= 3\n",
    "    return tot"
   ]
  },
  {
   "cell_type": "code",
   "execution_count": null,
   "metadata": {},
   "outputs": [],
   "source": []
  },
  {
   "cell_type": "code",
   "execution_count": 70,
   "metadata": {},
   "outputs": [],
   "source": [
    "#a method to look at the cycles that occur when one number is not divisible by another\n",
    "#hopefully, a pattern will arise to show when something is not divisible by another number\n",
    "def cycles(n, p, rolls):\n",
    "    (spec, op) = get_special(p)\n",
    "    x0 = last_dig_op(n, spec, op, p)\n",
    "    roll = x0\n",
    "    count = 0\n",
    "    for i in range(rolls):\n",
    "        print(\"roll \" + str(i + 1) + \" =\", roll)\n",
    "        roll = last_dig_op(roll, spec, op, p)"
   ]
  },
  {
   "cell_type": "code",
   "execution_count": 71,
   "metadata": {},
   "outputs": [
    {
     "name": "stdout",
     "output_type": "stream",
     "text": [
      "29369196 1409\n"
     ]
    }
   ],
   "source": [
    "import random as r\n",
    "p = plist[r.randint(0, len(plist))]\n",
    "test = r.randint(p, 10 ** 5)\n",
    "test1 = test * p\n",
    "print(test1, p)"
   ]
  },
  {
   "cell_type": "code",
   "execution_count": 72,
   "metadata": {},
   "outputs": [],
   "source": [
    "def is_div(n, p):\n",
    "    l = last_dig(n)\n",
    "    if p == 2:\n",
    "        return l in [0, 2, 4, 6, 8]\n",
    "    if p == 3:\n",
    "        return spec_three(n) == 0\n",
    "    if p == 5:\n",
    "        return l in [0, 5]\n",
    "    (spec, op) = get_special(p)\n",
    "    x0 = last_dig_op(n, spec, op, p)\n",
    "    roll = [x0] * 3\n",
    "    if x0 < p:\n",
    "        return False\n",
    "    count = 0\n",
    "    while True:\n",
    "        roll[0] = roll[2]\n",
    "        for i in range(2):\n",
    "            roll[i + 1] = last_dig_op(roll[i], spec, op, p)\n",
    "            if 0 < roll[i + 1] < p:\n",
    "                return False\n",
    "        if roll[2] == roll[0]:\n",
    "            return True\n",
    "        count += 1\n",
    "        if count > 10:\n",
    "            return False"
   ]
  },
  {
   "cell_type": "code",
   "execution_count": 73,
   "metadata": {},
   "outputs": [
    {
     "name": "stdout",
     "output_type": "stream",
     "text": [
      "61613 6257\n"
     ]
    },
    {
     "data": {
      "text/plain": [
       "False"
      ]
     },
     "execution_count": 73,
     "metadata": {},
     "output_type": "execute_result"
    }
   ],
   "source": [
    "import random as r\n",
    "p = plist[r.randint(0, len(plist))]\n",
    "test = r.randint(p, 10 ** 5)\n",
    "test1 = test\n",
    "print(test1, p)\n",
    "is_div(test1, p)"
   ]
  },
  {
   "cell_type": "code",
   "execution_count": 74,
   "metadata": {},
   "outputs": [],
   "source": [
    "def basic_is_div(m, n):\n",
    "    return m / n == m // n"
   ]
  },
  {
   "cell_type": "code",
   "execution_count": 75,
   "metadata": {},
   "outputs": [],
   "source": [
    "for i in range(1000):\n",
    "    p = plist[r.randint(0, len(plist) - 1)]\n",
    "    test = r.randint(p, 10 ** 15)\n",
    "    if basic_is_div(test, p) != is_div(test, p):\n",
    "        print(test, p)"
   ]
  },
  {
   "cell_type": "code",
   "execution_count": null,
   "metadata": {},
   "outputs": [],
   "source": []
  },
  {
   "cell_type": "code",
   "execution_count": null,
   "metadata": {},
   "outputs": [],
   "source": []
  },
  {
   "cell_type": "code",
   "execution_count": 76,
   "metadata": {},
   "outputs": [],
   "source": [
    "def factor(n, plist):\n",
    "    bound = n ** .5\n",
    "    i = 0\n",
    "    p_fac = []\n",
    "    if n not in plist:\n",
    "        while plist[i] <= bound:\n",
    "            p = plist[i]\n",
    "            i += 1\n",
    "            if is_div(n, p):\n",
    "                p_fac.append(p)\n",
    "                return p_fac + factor(n // p, plist)\n",
    "    else:\n",
    "        return [n]\n",
    "def prime_fac(n, plist):\n",
    "    p_facs = factor(n, plist)\n",
    "    dist_ps = len(set(p_facs))\n",
    "    pow_list = [0] * dist_ps\n",
    "    #count how many p's there are in p_facs\n",
    "    j = 0\n",
    "    i = 0\n",
    "    while i < len(p_facs):\n",
    "        p = p_facs[i]\n",
    "        #that will be the exponent\n",
    "        count = p_facs.count(p)\n",
    "        pow_list[j] = [p, count]\n",
    "        i += count\n",
    "        j += 1\n",
    "    return pow_list\n",
    "        #put it in pow_list and move on to the next prime that is not p\n",
    "        # keep doing this till the end of the list"
   ]
  },
  {
   "cell_type": "code",
   "execution_count": 77,
   "metadata": {},
   "outputs": [],
   "source": [
    "def nice_latex(fact):\n",
    "    run_str = ''\n",
    "    for pairs in fact:\n",
    "        run_str += print_exp(pairs)\n",
    "    return run_str[:-5]"
   ]
  },
  {
   "cell_type": "code",
   "execution_count": 78,
   "metadata": {},
   "outputs": [],
   "source": [
    "def print_exp(pair):\n",
    "    (p, a) = pair\n",
    "    return str(p) + '^' + str(a) + '\\cdot'"
   ]
  },
  {
   "cell_type": "code",
   "execution_count": 79,
   "metadata": {},
   "outputs": [
    {
     "name": "stdout",
     "output_type": "stream",
     "text": [
      "260554\n"
     ]
    },
    {
     "data": {
      "text/plain": [
       "'2^1\\\\cdot7^1\\\\cdot37^1\\\\cdot503^1'"
      ]
     },
     "execution_count": 79,
     "metadata": {},
     "output_type": "execute_result"
    }
   ],
   "source": [
    "fac_plist = primelist(10 ** 6)\n",
    "test = r.randint(1, 10 ** 6)\n",
    "print(test)\n",
    "nice_latex(prime_fac(test, fac_plist))"
   ]
  },
  {
   "cell_type": "code",
   "execution_count": 80,
   "metadata": {},
   "outputs": [
    {
     "data": {
      "text/plain": [
       "'2^1\\\\cdot3^2\\\\cdot13^1'"
      ]
     },
     "execution_count": 80,
     "metadata": {},
     "output_type": "execute_result"
    }
   ],
   "source": [
    "bad = 234\n",
    "nice_latex(prime_fac(bad, fac_plist))"
   ]
  },
  {
   "cell_type": "code",
   "execution_count": 81,
   "metadata": {},
   "outputs": [],
   "source": [
    "def prod(factors):\n",
    "    run_prod = factors[0]\n",
    "    for i in range(1, len(factors)):\n",
    "        run_prod *= factors[i]\n",
    "    return run_prod"
   ]
  },
  {
   "cell_type": "code",
   "execution_count": 82,
   "metadata": {},
   "outputs": [],
   "source": [
    "for i in range(100):\n",
    "    test = r.randint(1, 10 ** 6)\n",
    "    if prod(factor(test, fac_plist)) != test:\n",
    "        print(test)"
   ]
  },
  {
   "cell_type": "code",
   "execution_count": 83,
   "metadata": {},
   "outputs": [],
   "source": [
    "def whole_ass_generator(n):\n",
    "    p_fact = prime_fac(n, fac_plist)\n",
    "    run_str = ''\n",
    "    start = 'In order to be divisible by ' + str(n) + ' the number must be divisble by ' \n",
    "    dist_ps = len(p_fact)\n",
    "    is_small = False\n",
    "    if dist_ps == 2:\n",
    "        is_small = True\n",
    "        start += str(p_fact[0][0] ** p_fact[0][1]) + ' and ' + str(p_fact[1][0] ** p_fact[1][1]) + '.'\n",
    "    for pairs in p_fact:\n",
    "        (p, a) = pairs\n",
    "        if not is_small:\n",
    "            if p_fact.index(pairs) != len(p_fact) - 1:\n",
    "                start += str(p ** a) + ', '\n",
    "            else:\n",
    "                start += 'and ' + str(p ** a) + '.'\n",
    "        run_str += 'To be divisible by ' + str(p ** a) + ': ' + div_rule_gen(p ** a) + '.\\n'\n",
    "    run_str = run_str[:-1]\n",
    "    if dist_ps == 1:\n",
    "        return run_str\n",
    "    else:\n",
    "        return start + '\\n' + run_str"
   ]
  },
  {
   "cell_type": "code",
   "execution_count": 84,
   "metadata": {},
   "outputs": [
    {
     "name": "stdout",
     "output_type": "stream",
     "text": [
      "To be divisible by 81: Multiply the last digit by 8, subtract it from the rest of the number.\n"
     ]
    }
   ],
   "source": [
    "print(whole_ass_generator(3 ** 4))"
   ]
  },
  {
   "cell_type": "code",
   "execution_count": 85,
   "metadata": {},
   "outputs": [],
   "source": [
    "def pow_of(n, fac):\n",
    "    power = 0\n",
    "    while is_div(n, fac):\n",
    "        n //= fac\n",
    "        power += 1\n",
    "    return (power, n)"
   ]
  },
  {
   "cell_type": "code",
   "execution_count": 86,
   "metadata": {},
   "outputs": [],
   "source": [
    "def fac_two_five(n):\n",
    "    two_pow = 0\n",
    "    five_pow = 0\n",
    "    (five_pow, new_n) = pow_of(n, 5)\n",
    "    (two_pow, odd_n) = pow_of(new_n, 2)\n",
    "    return (two_pow, five_pow, odd_n)"
   ]
  },
  {
   "cell_type": "code",
   "execution_count": 87,
   "metadata": {},
   "outputs": [
    {
     "data": {
      "text/plain": [
       "(1, 3, 1)"
      ]
     },
     "execution_count": 87,
     "metadata": {},
     "output_type": "execute_result"
    }
   ],
   "source": [
    "fac_two_five(125 * 2)"
   ]
  },
  {
   "cell_type": "code",
   "execution_count": 88,
   "metadata": {},
   "outputs": [],
   "source": [
    "#check if two or five go into it\n",
    "def better_gen(n):\n",
    "    #get the powers\n",
    "    (two_pow, odd_n) = pow_of(n, 2)\n",
    "    #you need cases for if it is a straight power of two or if it is a straight power of 5\n",
    "    #if it is one of these then you just call the method gives you the rule for 2 or 5\n",
    "    strn = str(n)\n",
    "    rule = ''\n",
    "    if two_pow != 0:\n",
    "        two_part = 2 ** two_pow\n",
    "        two_part_str = str(two_part)\n",
    "        rule += 'To be divisible by ' + two_part_str + ': ' + two_or_five_rule(two_part, 2)\n",
    "        if odd_n != 1: \n",
    "            rule += '\\n'\n",
    "        else:\n",
    "            return rule\n",
    "    (five_pow, odd_n) = pow_of(odd_n, 5)\n",
    "    if five_pow != 0:\n",
    "        five_part = 5 ** five_pow\n",
    "        five_part_str = str(five_part)\n",
    "        rule += 'To be divisible by ' + five_part_str + ': ' + two_or_five_rule(five_part, 5)\n",
    "        if odd_n != 1:\n",
    "            rule += '\\n'\n",
    "        else:\n",
    "            return rule\n",
    "    rule += 'To be divisible by ' + str(odd_n) + ': ' + div_rule_gen(odd_n)\n",
    "    #we are going to have cases\n",
    "    #In order to be divisible by n, the number needs to be divisible by \n",
    "        #two power\n",
    "        #five power\n",
    "        #and odd power\n",
    "    #if we have made it this far either\n",
    "        #the number has no factors of 2 or 5\n",
    "    start = 'In order to be divisible by ' + strn + ' the number must be divisible by ' \n",
    "    if two_pow == 0 and five_pow == 0:\n",
    "        return rule\n",
    "    #the number has factors of 2 and 5 and something else\n",
    "    if two_pow != 0 and five_pow != 0:\n",
    "        start += two_part_str + ', ' + five_part_str + ','\n",
    "    #the number has factors of exactly one of 2 or 5 and something else\n",
    "    elif two_pow != 0:\n",
    "        start += two_part_str \n",
    "    elif five_pow != 0:\n",
    "        start += five_part_str\n",
    "    start += ' and ' + str(odd_n)\n",
    "    return start + '.\\n' + rule\n",
    "    #get the rule associated for the powers of two or five (write a method for this)\n",
    "    #get what is left if there is anything left\n",
    "    #run the normal rule generator on it\n",
    "    #boom you have your division rule"
   ]
  },
  {
   "cell_type": "code",
   "execution_count": 89,
   "metadata": {},
   "outputs": [],
   "source": [
    "def two_or_five_rule(n, two_or_five):\n",
    "    #n is a pure power of 2 or 5 that is not 1\n",
    "    (two_pow, odd) = pow_of(n, two_or_five)\n",
    "    strn = str(n)\n",
    "    return 'If the last ' + str(two_pow) + ' digits are divisible by ' + strn + ' then the number is divisible by ' + strn + '.' "
   ]
  },
  {
   "cell_type": "code",
   "execution_count": 90,
   "metadata": {},
   "outputs": [
    {
     "name": "stdout",
     "output_type": "stream",
     "text": [
      "To be divisible by 4: If the last 2 digits are divisible by 4 then the number is divisible by 4.\n",
      "To be divisible by 5: If the last 1 digits are divisible by 5 then the number is divisible by 5.\n",
      "In order to be divisible by 6 the number must be divisible by 2 and 3.\n",
      "To be divisible by 2: If the last 1 digits are divisible by 2 then the number is divisible by 2.\n",
      "To be divisible by 3: Multiply the last digit by 1, add it to the rest of the number\n",
      "To be divisible by 7: Multiply the last digit by 2, subtract it from the rest of the number\n",
      "To be divisible by 8: If the last 3 digits are divisible by 8 then the number is divisible by 8.\n",
      "To be divisible by 9: Multiply the last digit by 10, add it to the rest of the number\n",
      "To be divisible by 2: If the last 1 digits are divisible by 2 then the number is divisible by 2.\n",
      "To be divisible by 5: If the last 1 digits are divisible by 5 then the number is divisible by 5.\n",
      "To be divisible by 11: Multiply the last digit by 1, subtract it from the rest of the number\n",
      "In order to be divisible by 12 the number must be divisible by 4 and 3.\n",
      "To be divisible by 4: If the last 2 digits are divisible by 4 then the number is divisible by 4.\n",
      "To be divisible by 3: Multiply the last digit by 1, add it to the rest of the number\n",
      "To be divisible by 13: Multiply the last digit by 4, add it to the rest of the number\n",
      "In order to be divisible by 14 the number must be divisible by 2 and 7.\n",
      "To be divisible by 2: If the last 1 digits are divisible by 2 then the number is divisible by 2.\n",
      "To be divisible by 7: Multiply the last digit by 2, subtract it from the rest of the number\n",
      "In order to be divisible by 15 the number must be divisible by 5 and 3.\n",
      "To be divisible by 5: If the last 1 digits are divisible by 5 then the number is divisible by 5.\n",
      "To be divisible by 3: Multiply the last digit by 1, add it to the rest of the number\n",
      "To be divisible by 16: If the last 4 digits are divisible by 16 then the number is divisible by 16.\n",
      "To be divisible by 17: Multiply the last digit by 5, subtract it from the rest of the number\n",
      "In order to be divisible by 18 the number must be divisible by 2 and 9.\n",
      "To be divisible by 2: If the last 1 digits are divisible by 2 then the number is divisible by 2.\n",
      "To be divisible by 9: Multiply the last digit by 10, add it to the rest of the number\n",
      "To be divisible by 19: Multiply the last digit by 2, add it to the rest of the number\n",
      "To be divisible by 4: If the last 2 digits are divisible by 4 then the number is divisible by 4.\n",
      "To be divisible by 5: If the last 1 digits are divisible by 5 then the number is divisible by 5.\n",
      "To be divisible by 21: Multiply the last digit by 2, subtract it from the rest of the number\n",
      "In order to be divisible by 22 the number must be divisible by 2 and 11.\n",
      "To be divisible by 2: If the last 1 digits are divisible by 2 then the number is divisible by 2.\n",
      "To be divisible by 11: Multiply the last digit by 1, subtract it from the rest of the number\n",
      "To be divisible by 23: Multiply the last digit by 7, add it to the rest of the number\n",
      "In order to be divisible by 24 the number must be divisible by 8 and 3.\n",
      "To be divisible by 8: If the last 3 digits are divisible by 8 then the number is divisible by 8.\n",
      "To be divisible by 3: Multiply the last digit by 1, add it to the rest of the number\n",
      "To be divisible by 25: If the last 2 digits are divisible by 25 then the number is divisible by 25.\n",
      "In order to be divisible by 26 the number must be divisible by 2 and 13.\n",
      "To be divisible by 2: If the last 1 digits are divisible by 2 then the number is divisible by 2.\n",
      "To be divisible by 13: Multiply the last digit by 4, add it to the rest of the number\n",
      "To be divisible by 27: Multiply the last digit by 8, subtract it from the rest of the number\n",
      "In order to be divisible by 28 the number must be divisible by 4 and 7.\n",
      "To be divisible by 4: If the last 2 digits are divisible by 4 then the number is divisible by 4.\n",
      "To be divisible by 7: Multiply the last digit by 2, subtract it from the rest of the number\n",
      "To be divisible by 29: Multiply the last digit by 3, add it to the rest of the number\n",
      "In order to be divisible by 30 the number must be divisible by 2, 5, and 3.\n",
      "To be divisible by 2: If the last 1 digits are divisible by 2 then the number is divisible by 2.\n",
      "To be divisible by 5: If the last 1 digits are divisible by 5 then the number is divisible by 5.\n",
      "To be divisible by 3: Multiply the last digit by 1, add it to the rest of the number\n",
      "To be divisible by 31: Multiply the last digit by 3, subtract it from the rest of the number\n",
      "To be divisible by 32: If the last 5 digits are divisible by 32 then the number is divisible by 32.\n",
      "To be divisible by 33: Multiply the last digit by 10, add it to the rest of the number\n",
      "In order to be divisible by 34 the number must be divisible by 2 and 17.\n",
      "To be divisible by 2: If the last 1 digits are divisible by 2 then the number is divisible by 2.\n",
      "To be divisible by 17: Multiply the last digit by 5, subtract it from the rest of the number\n",
      "In order to be divisible by 35 the number must be divisible by 5 and 7.\n",
      "To be divisible by 5: If the last 1 digits are divisible by 5 then the number is divisible by 5.\n",
      "To be divisible by 7: Multiply the last digit by 2, subtract it from the rest of the number\n",
      "In order to be divisible by 36 the number must be divisible by 4 and 9.\n",
      "To be divisible by 4: If the last 2 digits are divisible by 4 then the number is divisible by 4.\n",
      "To be divisible by 9: Multiply the last digit by 10, add it to the rest of the number\n",
      "To be divisible by 37: Multiply the last digit by 11, subtract it from the rest of the number\n",
      "In order to be divisible by 38 the number must be divisible by 2 and 19.\n",
      "To be divisible by 2: If the last 1 digits are divisible by 2 then the number is divisible by 2.\n",
      "To be divisible by 19: Multiply the last digit by 2, add it to the rest of the number\n",
      "To be divisible by 39: Multiply the last digit by 4, add it to the rest of the number\n",
      "To be divisible by 8: If the last 3 digits are divisible by 8 then the number is divisible by 8.\n",
      "To be divisible by 5: If the last 1 digits are divisible by 5 then the number is divisible by 5.\n",
      "To be divisible by 41: Multiply the last digit by 4, subtract it from the rest of the number\n",
      "In order to be divisible by 42 the number must be divisible by 2 and 21.\n",
      "To be divisible by 2: If the last 1 digits are divisible by 2 then the number is divisible by 2.\n",
      "To be divisible by 21: Multiply the last digit by 2, subtract it from the rest of the number\n",
      "To be divisible by 43: Multiply the last digit by 13, add it to the rest of the number\n",
      "In order to be divisible by 44 the number must be divisible by 4 and 11.\n",
      "To be divisible by 4: If the last 2 digits are divisible by 4 then the number is divisible by 4.\n",
      "To be divisible by 11: Multiply the last digit by 1, subtract it from the rest of the number\n",
      "In order to be divisible by 45 the number must be divisible by 5 and 9.\n",
      "To be divisible by 5: If the last 1 digits are divisible by 5 then the number is divisible by 5.\n",
      "To be divisible by 9: Multiply the last digit by 10, add it to the rest of the number\n",
      "In order to be divisible by 46 the number must be divisible by 2 and 23.\n",
      "To be divisible by 2: If the last 1 digits are divisible by 2 then the number is divisible by 2.\n",
      "To be divisible by 23: Multiply the last digit by 7, add it to the rest of the number\n",
      "To be divisible by 47: Multiply the last digit by 14, subtract it from the rest of the number\n",
      "In order to be divisible by 48 the number must be divisible by 16 and 3.\n",
      "To be divisible by 16: If the last 4 digits are divisible by 16 then the number is divisible by 16.\n",
      "To be divisible by 3: Multiply the last digit by 1, add it to the rest of the number\n",
      "To be divisible by 49: Multiply the last digit by 5, add it to the rest of the number\n",
      "To be divisible by 2: If the last 1 digits are divisible by 2 then the number is divisible by 2.\n",
      "To be divisible by 25: If the last 2 digits are divisible by 25 then the number is divisible by 25.\n",
      "To be divisible by 51: Multiply the last digit by 5, subtract it from the rest of the number\n",
      "In order to be divisible by 52 the number must be divisible by 4 and 13.\n",
      "To be divisible by 4: If the last 2 digits are divisible by 4 then the number is divisible by 4.\n",
      "To be divisible by 13: Multiply the last digit by 4, add it to the rest of the number\n",
      "To be divisible by 53: Multiply the last digit by 16, add it to the rest of the number\n",
      "In order to be divisible by 54 the number must be divisible by 2 and 27.\n",
      "To be divisible by 2: If the last 1 digits are divisible by 2 then the number is divisible by 2.\n",
      "To be divisible by 27: Multiply the last digit by 8, subtract it from the rest of the number\n",
      "In order to be divisible by 55 the number must be divisible by 5 and 11.\n",
      "To be divisible by 5: If the last 1 digits are divisible by 5 then the number is divisible by 5.\n",
      "To be divisible by 11: Multiply the last digit by 1, subtract it from the rest of the number\n",
      "In order to be divisible by 56 the number must be divisible by 8 and 7.\n",
      "To be divisible by 8: If the last 3 digits are divisible by 8 then the number is divisible by 8.\n",
      "To be divisible by 7: Multiply the last digit by 2, subtract it from the rest of the number\n",
      "To be divisible by 57: Multiply the last digit by 17, subtract it from the rest of the number\n",
      "In order to be divisible by 58 the number must be divisible by 2 and 29.\n",
      "To be divisible by 2: If the last 1 digits are divisible by 2 then the number is divisible by 2.\n",
      "To be divisible by 29: Multiply the last digit by 3, add it to the rest of the number\n",
      "To be divisible by 59: Multiply the last digit by 6, add it to the rest of the number\n",
      "In order to be divisible by 60 the number must be divisible by 4, 5, and 3.\n",
      "To be divisible by 4: If the last 2 digits are divisible by 4 then the number is divisible by 4.\n",
      "To be divisible by 5: If the last 1 digits are divisible by 5 then the number is divisible by 5.\n",
      "To be divisible by 3: Multiply the last digit by 1, add it to the rest of the number\n",
      "To be divisible by 61: Multiply the last digit by 6, subtract it from the rest of the number\n",
      "In order to be divisible by 62 the number must be divisible by 2 and 31.\n",
      "To be divisible by 2: If the last 1 digits are divisible by 2 then the number is divisible by 2.\n",
      "To be divisible by 31: Multiply the last digit by 3, subtract it from the rest of the number\n",
      "To be divisible by 63: Multiply the last digit by 19, add it to the rest of the number\n",
      "To be divisible by 64: If the last 6 digits are divisible by 64 then the number is divisible by 64.\n",
      "In order to be divisible by 65 the number must be divisible by 5 and 13.\n",
      "To be divisible by 5: If the last 1 digits are divisible by 5 then the number is divisible by 5.\n",
      "To be divisible by 13: Multiply the last digit by 4, add it to the rest of the number\n",
      "In order to be divisible by 66 the number must be divisible by 2 and 33.\n",
      "To be divisible by 2: If the last 1 digits are divisible by 2 then the number is divisible by 2.\n",
      "To be divisible by 33: Multiply the last digit by 10, add it to the rest of the number\n",
      "To be divisible by 67: Multiply the last digit by 20, subtract it from the rest of the number\n",
      "In order to be divisible by 68 the number must be divisible by 4 and 17.\n",
      "To be divisible by 4: If the last 2 digits are divisible by 4 then the number is divisible by 4.\n",
      "To be divisible by 17: Multiply the last digit by 5, subtract it from the rest of the number\n",
      "To be divisible by 69: Multiply the last digit by 7, add it to the rest of the number\n",
      "In order to be divisible by 70 the number must be divisible by 2, 5, and 7.\n",
      "To be divisible by 2: If the last 1 digits are divisible by 2 then the number is divisible by 2.\n",
      "To be divisible by 5: If the last 1 digits are divisible by 5 then the number is divisible by 5.\n",
      "To be divisible by 7: Multiply the last digit by 2, subtract it from the rest of the number\n",
      "To be divisible by 71: Multiply the last digit by 7, subtract it from the rest of the number\n",
      "In order to be divisible by 72 the number must be divisible by 8 and 9.\n",
      "To be divisible by 8: If the last 3 digits are divisible by 8 then the number is divisible by 8.\n",
      "To be divisible by 9: Multiply the last digit by 10, add it to the rest of the number\n",
      "To be divisible by 73: Multiply the last digit by 22, add it to the rest of the number\n",
      "In order to be divisible by 74 the number must be divisible by 2 and 37.\n",
      "To be divisible by 2: If the last 1 digits are divisible by 2 then the number is divisible by 2.\n",
      "To be divisible by 37: Multiply the last digit by 11, subtract it from the rest of the number\n",
      "In order to be divisible by 75 the number must be divisible by 25 and 3.\n",
      "To be divisible by 25: If the last 2 digits are divisible by 25 then the number is divisible by 25.\n",
      "To be divisible by 3: Multiply the last digit by 1, add it to the rest of the number\n",
      "In order to be divisible by 76 the number must be divisible by 4 and 19.\n",
      "To be divisible by 4: If the last 2 digits are divisible by 4 then the number is divisible by 4.\n",
      "To be divisible by 19: Multiply the last digit by 2, add it to the rest of the number\n",
      "To be divisible by 77: Multiply the last digit by 23, subtract it from the rest of the number\n",
      "In order to be divisible by 78 the number must be divisible by 2 and 39.\n",
      "To be divisible by 2: If the last 1 digits are divisible by 2 then the number is divisible by 2.\n",
      "To be divisible by 39: Multiply the last digit by 4, add it to the rest of the number\n",
      "To be divisible by 79: Multiply the last digit by 8, add it to the rest of the number\n",
      "To be divisible by 16: If the last 4 digits are divisible by 16 then the number is divisible by 16.\n",
      "To be divisible by 5: If the last 1 digits are divisible by 5 then the number is divisible by 5.\n",
      "To be divisible by 81: Multiply the last digit by 8, subtract it from the rest of the number\n",
      "In order to be divisible by 82 the number must be divisible by 2 and 41.\n",
      "To be divisible by 2: If the last 1 digits are divisible by 2 then the number is divisible by 2.\n",
      "To be divisible by 41: Multiply the last digit by 4, subtract it from the rest of the number\n",
      "To be divisible by 83: Multiply the last digit by 25, add it to the rest of the number\n",
      "In order to be divisible by 84 the number must be divisible by 4 and 21.\n",
      "To be divisible by 4: If the last 2 digits are divisible by 4 then the number is divisible by 4.\n",
      "To be divisible by 21: Multiply the last digit by 2, subtract it from the rest of the number\n",
      "In order to be divisible by 85 the number must be divisible by 5 and 17.\n",
      "To be divisible by 5: If the last 1 digits are divisible by 5 then the number is divisible by 5.\n",
      "To be divisible by 17: Multiply the last digit by 5, subtract it from the rest of the number\n",
      "In order to be divisible by 86 the number must be divisible by 2 and 43.\n",
      "To be divisible by 2: If the last 1 digits are divisible by 2 then the number is divisible by 2.\n",
      "To be divisible by 43: Multiply the last digit by 13, add it to the rest of the number\n",
      "To be divisible by 87: Multiply the last digit by 26, subtract it from the rest of the number\n",
      "In order to be divisible by 88 the number must be divisible by 8 and 11.\n",
      "To be divisible by 8: If the last 3 digits are divisible by 8 then the number is divisible by 8.\n",
      "To be divisible by 11: Multiply the last digit by 1, subtract it from the rest of the number\n",
      "To be divisible by 89: Multiply the last digit by 9, add it to the rest of the number\n",
      "In order to be divisible by 90 the number must be divisible by 2, 5, and 9.\n",
      "To be divisible by 2: If the last 1 digits are divisible by 2 then the number is divisible by 2.\n",
      "To be divisible by 5: If the last 1 digits are divisible by 5 then the number is divisible by 5.\n",
      "To be divisible by 9: Multiply the last digit by 10, add it to the rest of the number\n",
      "To be divisible by 91: Multiply the last digit by 9, subtract it from the rest of the number\n",
      "In order to be divisible by 92 the number must be divisible by 4 and 23.\n",
      "To be divisible by 4: If the last 2 digits are divisible by 4 then the number is divisible by 4.\n",
      "To be divisible by 23: Multiply the last digit by 7, add it to the rest of the number\n",
      "To be divisible by 93: Multiply the last digit by 28, add it to the rest of the number\n",
      "In order to be divisible by 94 the number must be divisible by 2 and 47.\n",
      "To be divisible by 2: If the last 1 digits are divisible by 2 then the number is divisible by 2.\n",
      "To be divisible by 47: Multiply the last digit by 14, subtract it from the rest of the number\n",
      "In order to be divisible by 95 the number must be divisible by 5 and 19.\n",
      "To be divisible by 5: If the last 1 digits are divisible by 5 then the number is divisible by 5.\n",
      "To be divisible by 19: Multiply the last digit by 2, add it to the rest of the number\n",
      "In order to be divisible by 96 the number must be divisible by 32 and 3.\n",
      "To be divisible by 32: If the last 5 digits are divisible by 32 then the number is divisible by 32.\n",
      "To be divisible by 3: Multiply the last digit by 1, add it to the rest of the number\n",
      "To be divisible by 97: Multiply the last digit by 29, subtract it from the rest of the number\n",
      "In order to be divisible by 98 the number must be divisible by 2 and 49.\n",
      "To be divisible by 2: If the last 1 digits are divisible by 2 then the number is divisible by 2.\n",
      "To be divisible by 49: Multiply the last digit by 5, add it to the rest of the number\n",
      "To be divisible by 99: Multiply the last digit by 10, add it to the rest of the number\n"
     ]
    }
   ],
   "source": [
    "for i in range(4, 100):\n",
    "    print(better_gen(i))"
   ]
  }
 ],
 "metadata": {
  "kernelspec": {
   "display_name": "Python 3 (ipykernel)",
   "language": "python",
   "name": "python3"
  },
  "language_info": {
   "codemirror_mode": {
    "name": "ipython",
    "version": 3
   },
   "file_extension": ".py",
   "mimetype": "text/x-python",
   "name": "python",
   "nbconvert_exporter": "python",
   "pygments_lexer": "ipython3",
   "version": "3.9.10"
  }
 },
 "nbformat": 4,
 "nbformat_minor": 4
}
